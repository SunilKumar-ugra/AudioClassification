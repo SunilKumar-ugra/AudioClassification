{
 "cells": [
  {
   "cell_type": "code",
   "execution_count": 1,
   "metadata": {},
   "outputs": [],
   "source": [
    "##### Audio Classification Using Machine Learning\n",
    "#####dataset url https://urbansounddataset.weebly.com/urbansound8k.html"
   ]
  },
  {
   "cell_type": "code",
   "execution_count": 10,
   "metadata": {},
   "outputs": [],
   "source": [
    "import matplotlib.pyplot as plt\n"
   ]
  },
  {
   "cell_type": "code",
   "execution_count": 11,
   "metadata": {},
   "outputs": [],
   "source": [
    "import IPython.display as ipd\n",
    "import librosa\n",
    "import librosa.display"
   ]
  },
  {
   "cell_type": "code",
   "execution_count": 12,
   "metadata": {},
   "outputs": [
    {
     "name": "stdout",
     "output_type": "stream",
     "text": [
      " Volume in drive F is WORKPLACE\n",
      " Volume Serial Number is 7429-A385\n",
      "\n",
      " Directory of f:\\ML_Ops_learning\\AudioClassification\n",
      "\n",
      "04-03-2024  11:11    <DIR>          .\n",
      "04-03-2024  11:11    <DIR>          ..\n",
      "27-02-2024  20:59             3,238 .gitignore\n",
      "04-03-2024  10:14    <DIR>          Dataset\n",
      "04-03-2024  23:36            17,887 EDA.ipynb\n",
      "27-02-2024  20:59                21 README.md\n",
      "04-03-2024  21:50                30 requirements.txt\n",
      "               4 File(s)         21,176 bytes\n",
      "               3 Dir(s)  268,111,417,344 bytes free\n"
     ]
    }
   ],
   "source": [
    "!dir"
   ]
  },
  {
   "cell_type": "code",
   "execution_count": 13,
   "metadata": {},
   "outputs": [],
   "source": [
    "filename='Dataset/UrbanSound8K/audio/fold2/14780-9-0-2.wav'"
   ]
  },
  {
   "cell_type": "code",
   "execution_count": 16,
   "metadata": {},
   "outputs": [
    {
     "ename": "AttributeError",
     "evalue": "'_process_plot_var_args' object has no attribute 'prop_cycler'",
     "output_type": "error",
     "traceback": [
      "\u001b[1;31m---------------------------------------------------------------------------\u001b[0m",
      "\u001b[1;31mAttributeError\u001b[0m                            Traceback (most recent call last)",
      "Cell \u001b[1;32mIn[16], line 4\u001b[0m\n\u001b[0;32m      2\u001b[0m plt\u001b[38;5;241m.\u001b[39mfigure(figsize\u001b[38;5;241m=\u001b[39m(\u001b[38;5;241m14\u001b[39m,\u001b[38;5;241m5\u001b[39m))\n\u001b[0;32m      3\u001b[0m data,sample_rate\u001b[38;5;241m=\u001b[39mlibrosa\u001b[38;5;241m.\u001b[39mload(filename)\n\u001b[1;32m----> 4\u001b[0m \u001b[43mlibrosa\u001b[49m\u001b[38;5;241;43m.\u001b[39;49m\u001b[43mdisplay\u001b[49m\u001b[38;5;241;43m.\u001b[39;49m\u001b[43mwaveshow\u001b[49m\u001b[43m(\u001b[49m\u001b[43mdata\u001b[49m\u001b[43m,\u001b[49m\u001b[43msr\u001b[49m\u001b[38;5;241;43m=\u001b[39;49m\u001b[43msample_rate\u001b[49m\u001b[43m)\u001b[49m\n\u001b[0;32m      5\u001b[0m ipd\u001b[38;5;241m.\u001b[39mAudio(filename)\n",
      "File \u001b[1;32mc:\\Users\\win10\\.conda\\envs\\audio\\lib\\site-packages\\librosa\\display.py:2042\u001b[0m, in \u001b[0;36mwaveshow\u001b[1;34m(y, sr, max_points, axis, offset, marker, where, label, transpose, ax, x_axis, **kwargs)\u001b[0m\n\u001b[0;32m   2032\u001b[0m axis \u001b[38;5;241m=\u001b[39m rename_kw(\n\u001b[0;32m   2033\u001b[0m     old_name\u001b[38;5;241m=\u001b[39m\u001b[38;5;124m\"\u001b[39m\u001b[38;5;124mx_axis\u001b[39m\u001b[38;5;124m\"\u001b[39m,\n\u001b[0;32m   2034\u001b[0m     old_value\u001b[38;5;241m=\u001b[39mx_axis,\n\u001b[1;32m   (...)\u001b[0m\n\u001b[0;32m   2038\u001b[0m     version_removed\u001b[38;5;241m=\u001b[39m\u001b[38;5;124m\"\u001b[39m\u001b[38;5;124m1.0\u001b[39m\u001b[38;5;124m\"\u001b[39m,\n\u001b[0;32m   2039\u001b[0m )\n\u001b[0;32m   2041\u001b[0m \u001b[38;5;28;01mif\u001b[39;00m \u001b[38;5;124m\"\u001b[39m\u001b[38;5;124mcolor\u001b[39m\u001b[38;5;124m\"\u001b[39m \u001b[38;5;129;01mnot\u001b[39;00m \u001b[38;5;129;01min\u001b[39;00m kwargs:\n\u001b[1;32m-> 2042\u001b[0m     kwargs\u001b[38;5;241m.\u001b[39msetdefault(\u001b[38;5;124m\"\u001b[39m\u001b[38;5;124mcolor\u001b[39m\u001b[38;5;124m\"\u001b[39m, \u001b[38;5;28mnext\u001b[39m(\u001b[43maxes\u001b[49m\u001b[38;5;241;43m.\u001b[39;49m\u001b[43m_get_lines\u001b[49m\u001b[38;5;241;43m.\u001b[39;49m\u001b[43mprop_cycler\u001b[49m)[\u001b[38;5;124m\"\u001b[39m\u001b[38;5;124mcolor\u001b[39m\u001b[38;5;124m\"\u001b[39m])\n\u001b[0;32m   2044\u001b[0m \u001b[38;5;66;03m# Reduce by envelope calculation\u001b[39;00m\n\u001b[0;32m   2045\u001b[0m \u001b[38;5;66;03m# this choice of hop ensures that the envelope has at most max_points values\u001b[39;00m\n\u001b[0;32m   2046\u001b[0m hop_length \u001b[38;5;241m=\u001b[39m \u001b[38;5;28mmax\u001b[39m(\u001b[38;5;241m1\u001b[39m, y\u001b[38;5;241m.\u001b[39mshape[\u001b[38;5;241m-\u001b[39m\u001b[38;5;241m1\u001b[39m] \u001b[38;5;241m/\u001b[39m\u001b[38;5;241m/\u001b[39m max_points)\n",
      "\u001b[1;31mAttributeError\u001b[0m: '_process_plot_var_args' object has no attribute 'prop_cycler'"
     ]
    },
    {
     "data": {
      "image/png": "[encoded data removed]",
      "text/plain": [
       "<Figure size 1400x500 with 1 Axes>"
      ]
     },
     "metadata": {},
     "output_type": "display_data"
    }
   ],
   "source": [
    "### Dog Sound\n",
    "plt.figure(figsize=(14,5))\n",
    "data,sample_rate=librosa.load(filename)\n",
    "librosa.display.waveshow(data,sr=sample_rate)\n",
    "ipd.Audio(filename)"
   ]
  },
  {
   "cell_type": "code",
   "execution_count": null,
   "metadata": {},
   "outputs": [],
   "source": []
  },
  {
   "cell_type": "code",
   "execution_count": null,
   "metadata": {},
   "outputs": [],
   "source": []
  },
  {
   "cell_type": "code",
   "execution_count": null,
   "metadata": {},
   "outputs": [],
   "source": []
  }
 ],
 "metadata": {
  "kernelspec": {
   "display_name": "Python 3",
   "language": "python",
   "name": "python3"
  },
  "language_info": {
   "codemirror_mode": {
    "name": "ipython",
    "version": 3
   },
   "file_extension": ".py",
   "mimetype": "text/x-python",
   "name": "python",
   "nbconvert_exporter": "python",
   "pygments_lexer": "ipython3",
   "version": "3.10.13"
  }
 },
 "nbformat": 4,
 "nbformat_minor": 2
}
